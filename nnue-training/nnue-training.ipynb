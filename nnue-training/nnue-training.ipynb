{
 "cells": [
  {
   "cell_type": "code",
   "execution_count": 78,
   "id": "2d8059c9",
   "metadata": {},
   "outputs": [],
   "source": [
    "import zstandard as zstd\n",
    "import chess.pgn\n",
    "import io\n",
    "import re\n",
    "import numpy as np\n",
    "import torch\n",
    "import torch.nn as nn\n",
    "import torch.optim as optim\n",
    "from torch.utils.data import DataLoader, TensorDataset\n",
    "\n",
    "import chess.svg\n",
    "from IPython.display import SVG, display"
   ]
  },
  {
   "cell_type": "code",
   "execution_count": 79,
   "id": "c70714f4",
   "metadata": {},
   "outputs": [],
   "source": [
    "# Utility functions\n",
    "\n",
    "def show_board(board: chess.Board):\n",
    "    display(SVG(chess.svg.board(board=board)))"
   ]
  },
  {
   "cell_type": "code",
   "execution_count": null,
   "id": "6635b290",
   "metadata": {},
   "outputs": [],
   "source": [
    "# SimpleNNUE Model Description\n",
    "#\n",
    "# This model is a lightweight feedforward neural network inspired by NNUE \n",
    "# architectures used in modern chess engines.\n",
    "#\n",
    "# Architecture:\n",
    "# - Input: 768-dim binary vector representing piece-square features \n",
    "#   (12 planes × 64 squares), always from the side to move perspective.\n",
    "#\n",
    "# - Hidden Layer:\n",
    "#   - Fully connected (Linear) layer of size (768 → hidden_size)\n",
    "#   - Activation: SCReLU (Squared Clipped ReLU)\n",
    "#     f(x) = clamp(x, 0, 1)^2\n",
    "#\n",
    "# - Output Layer:\n",
    "#   - Fully connected layer of size (hidden_size → 1)\n",
    "#   - Activation: Sigmoid, maps output to probability (0, 1)\n",
    "#\n",
    "# - Output: A single scalar interpreted as the win probability \n",
    "#   for the side to move.\n",
    "#\n",
    "# Purpose:\n",
    "# - Trained to classify positions as likely win/loss (label 0 or 1),\n",
    "#   or optionally to model draw probability (label = 0.5)."
   ]
  },
  {
   "cell_type": "code",
   "execution_count": 89,
   "id": "505c952b",
   "metadata": {},
   "outputs": [],
   "source": [
    "class SimpleNNUE(nn.Module):\n",
    "    def __init__(self, hidden_size=1024):\n",
    "        super(SimpleNNUE, self).__init__()\n",
    "        self.hidden = nn.Linear(768, hidden_size, bias=True)\n",
    "        self.output = nn.Linear(hidden_size, 1, bias=True)\n",
    "\n",
    "    def forward(self, x):\n",
    "        # Apply hidden layer + SCReLU\n",
    "        x = self.hidden(x)\n",
    "        x = torch.clamp(x, 0, 1) ** 2 # Apply SCReLU activation\n",
    "        x = self.output(x)\n",
    "        x = torch.sigmoid(x)\n",
    "        return x.squeeze(1)  \n"
   ]
  },
  {
   "cell_type": "code",
   "execution_count": 92,
   "id": "db4df3b7",
   "metadata": {},
   "outputs": [],
   "source": [
    "PIECE_ORDER = [\n",
    "    chess.PAWN,\n",
    "    chess.KNIGHT,\n",
    "    chess.BISHOP,\n",
    "    chess.ROOK,\n",
    "    chess.QUEEN,\n",
    "    chess.KING,\n",
    "]\n",
    "\n",
    "def extract_vector(board: chess.Board):\n",
    "    if board.turn == chess.BLACK:\n",
    "        board = board.mirror()\n",
    "\n",
    "    vec = np.zeros(768, dtype=np.int8)\n",
    "    \n",
    "    for square in chess.SQUARES:\n",
    "        piece = board.piece_at(square)\n",
    "        if piece:\n",
    "            type_index = PIECE_ORDER.index(piece.piece_type)\n",
    "            color_offset = 0 if piece.color == chess.WHITE else 6\n",
    "            idx = 64 * (color_offset + type_index) + square\n",
    "            vec[idx] = 1\n",
    "    return vec\n",
    "\n",
    "\n",
    "def extract_vectors_from_game(game):\n",
    "    board = game.board()\n",
    "    data = []\n",
    "\n",
    "    result = game.headers.get(\"Result\")\n",
    "    if result not in (\"1-0\", \"0-1\", \"1/2-1/2\"):\n",
    "        return []  # skip unrecognized or incomplete games\n",
    "\n",
    "    for node in game.mainline():\n",
    "        board.push(node.move)\n",
    "\n",
    "        if board.is_check():\n",
    "            continue\n",
    "\n",
    "        vector = extract_vector(board)\n",
    "\n",
    "        # Determine label from side to move's perspective\n",
    "        stm = board.turn  # chess.WHITE or chess.BLACK\n",
    "\n",
    "        if result == \"1-0\":\n",
    "            label = 1 if stm == chess.WHITE else 0\n",
    "        elif result == \"0-1\":\n",
    "            label = 1 if stm == chess.BLACK else 0\n",
    "        else:  # draw\n",
    "            label = 0.5  # or skip if you don't want draws\n",
    "\n",
    "        data.append((vector, label))\n",
    "\n",
    "    return data\n",
    "\n",
    "def process_pgn_zst(file_path, max_games=None, min_elo=2000):\n",
    "    dctx = zstd.ZstdDecompressor()\n",
    "    vectors = []\n",
    "\n",
    "    with open(file_path, 'rb') as f:\n",
    "        with dctx.stream_reader(f) as reader:\n",
    "            text_stream = io.TextIOWrapper(reader, encoding='utf-8')\n",
    "            game_count = 0\n",
    "            while True:\n",
    "                try:\n",
    "                    game = chess.pgn.read_game(text_stream)\n",
    "                    if game is None:\n",
    "                        break\n",
    "\n",
    "                    # --- Elo filter ---\n",
    "                    try:\n",
    "                        white_elo = int(game.headers.get(\"WhiteElo\", 0))\n",
    "                        black_elo = int(game.headers.get(\"BlackElo\", 0))\n",
    "                        if white_elo < min_elo or black_elo < min_elo:\n",
    "                            continue\n",
    "                    except ValueError:\n",
    "                        continue  # skip if ELOs are not integers\n",
    "\n",
    "                    vectors.extend(extract_vectors_from_game(game))\n",
    "                    game_count += 1\n",
    "                    if max_games and game_count >= max_games:\n",
    "                        break\n",
    "                except Exception as e:\n",
    "                    print(f\"Error parsing game #{game_count}: {e}\")\n",
    "                    continue\n",
    "    positions = np.array([v[0] for v in vectors], dtype=np.int32)\n",
    "    labels = np.array([v[1] for v in vectors], dtype=np.float32)\n",
    "    return positions, labels\n",
    "\n"
   ]
  },
  {
   "cell_type": "code",
   "execution_count": null,
   "id": "60733343",
   "metadata": {},
   "outputs": [],
   "source": [
    "positions, labels = process_pgn_zst(\"lichess_db_standard_rated_2015-11.pgn.zst\", max_games=100, min_elo=2000)\n"
   ]
  },
  {
   "cell_type": "code",
   "execution_count": 94,
   "id": "0f64a254",
   "metadata": {},
   "outputs": [
    {
     "name": "stdout",
     "output_type": "stream",
     "text": [
      "(7202, 768) (7202,)\n"
     ]
    }
   ],
   "source": [
    "print(positions.shape, labels.shape)"
   ]
  },
  {
   "cell_type": "code",
   "execution_count": 95,
   "id": "13cd88ef",
   "metadata": {},
   "outputs": [
    {
     "name": "stdout",
     "output_type": "stream",
     "text": [
      "Using device: cuda\n",
      "Epoch 1/10, Loss: 67.2652\n",
      "Epoch 2/10, Loss: 39.8400\n",
      "Epoch 3/10, Loss: 26.4357\n",
      "Epoch 4/10, Loss: 21.3649\n",
      "Epoch 5/10, Loss: 18.4142\n",
      "Epoch 6/10, Loss: 16.6601\n",
      "Epoch 7/10, Loss: 15.6389\n",
      "Epoch 8/10, Loss: 15.0096\n",
      "Epoch 9/10, Loss: 14.7221\n",
      "Epoch 10/10, Loss: 13.8288\n"
     ]
    }
   ],
   "source": [
    "\n",
    "# Convert to PyTorch tensors\n",
    "X = torch.tensor(positions, dtype=torch.float32)\n",
    "y = torch.tensor(labels, dtype=torch.float32)\n",
    "\n",
    "# Create dataset and dataloader\n",
    "dataset = TensorDataset(X, y)\n",
    "loader = DataLoader(dataset, batch_size=64, shuffle=True)\n",
    "\n",
    "# Define model\n",
    "model = SimpleNNUE(hidden_size=1024)\n",
    "\n",
    "# Define optimizer and loss function\n",
    "optimizer = optim.Adam(model.parameters(), lr=0.001)\n",
    "loss_fn = nn.BCELoss()  # Binary Cross-Entropy Loss for sigmoid output\n",
    "\n",
    "# Move to GPU if available\n",
    "device = torch.device(\"cuda\" if torch.cuda.is_available() else \"cpu\")\n",
    "print(f\"Using device: {device}\")\n",
    "model.to(device)\n",
    "\n",
    "# Training loop\n",
    "epochs = 10\n",
    "for epoch in range(epochs):\n",
    "    model.train()\n",
    "    total_loss = 0\n",
    "\n",
    "    for batch_x, batch_y in loader:\n",
    "        batch_x = batch_x.to(device)\n",
    "        batch_y = batch_y.to(device)\n",
    "\n",
    "        optimizer.zero_grad()\n",
    "        outputs = model(batch_x)\n",
    "        loss = loss_fn(outputs, batch_y)\n",
    "        loss.backward()\n",
    "        optimizer.step()\n",
    "\n",
    "        total_loss += loss.item()\n",
    "\n",
    "    print(f\"Epoch {epoch + 1}/{epochs}, Loss: {total_loss:.4f}\")"
   ]
  },
  {
   "cell_type": "code",
   "execution_count": 111,
   "id": "07a81131",
   "metadata": {},
   "outputs": [],
   "source": [
    "def save_weights_to_txt(model, filename=\"nnue_weights.txt\"):\n",
    "    with open(filename, \"w\") as f:\n",
    "        # First layer weights: (1024 x 768)\n",
    "        first_layer_weights = model.hidden.weight.detach().cpu().numpy()\n",
    "        for row in first_layer_weights:\n",
    "            f.write(\" \".join(f\"{w:.6f}\" for w in row) + \"\\n\")\n",
    "\n",
    "        # Blank line\n",
    "        f.write(\"\\n\")\n",
    "\n",
    "        # Hidden layer biases: (1024,)\n",
    "        hidden_biases = model.hidden.bias.detach().cpu().numpy()\n",
    "        f.write(\" \".join(f\"{b:.6f}\" for b in hidden_biases) + \"\\n\")\n",
    "\n",
    "        # Blank line\n",
    "        f.write(\"\\n\")\n",
    "\n",
    "        # Output layer weights: (1 x 1024)\n",
    "        output_layer_weights = model.output.weight.detach().cpu().numpy()\n",
    "        for row in output_layer_weights:\n",
    "            f.write(\" \".join(f\"{w:.6f}\" for w in row) + \"\\n\")\n",
    "\n",
    "        # Blank line\n",
    "        f.write(\"\\n\")\n",
    "\n",
    "        # Output bias: scalar\n",
    "        output_bias = model.output.bias.item()\n",
    "        f.write(f\"{output_bias:.6f}\\n\")\n",
    "\n",
    "save_weights_to_txt(model, \"nnue_weights.txt\")\n"
   ]
  },
  {
   "cell_type": "code",
   "execution_count": 114,
   "id": "c636cf68",
   "metadata": {},
   "outputs": [
    {
     "name": "stdout",
     "output_type": "stream",
     "text": [
      "Predicted win probability for the side to move: 0.0902\n"
     ]
    }
   ],
   "source": [
    "fen = \"r1bq1rk1/1p3pp1/p1nbp2p/3n4/P1BP4/2N2N2/1P1BQPPP/2RR2K1 w - - 2 14\"\n",
    "#fen = \"rnbqkb1r/ppp2ppp/4pn2/8/2BP4/4PN2/PP3PPP/RNBQK2R b KQkq - 0 5\"\n",
    "\n",
    "board = chess.Board(fen)\n",
    "\n",
    "x = extract_vector(board)\n",
    "x = torch.tensor(x, dtype=torch.float32).unsqueeze(0).to(device)\n",
    "model.eval()\n",
    "with torch.no_grad():\n",
    "    prediction = model(x).item()\n",
    "print(f\"Predicted win probability for the side to move: {prediction:.4f}\")\n"
   ]
  },
  {
   "cell_type": "code",
   "execution_count": 100,
   "id": "c48d71c6",
   "metadata": {},
   "outputs": [
    {
     "name": "stdout",
     "output_type": "stream",
     "text": [
      "0.5523079037666321\n"
     ]
    }
   ],
   "source": [
    "print(torch.sigmoid(torch.tensor(0.21)).item())  # Example of using sigmoid on a scalar value"
   ]
  }
 ],
 "metadata": {
  "kernelspec": {
   "display_name": "myenv",
   "language": "python",
   "name": "python3"
  },
  "language_info": {
   "codemirror_mode": {
    "name": "ipython",
    "version": 3
   },
   "file_extension": ".py",
   "mimetype": "text/x-python",
   "name": "python",
   "nbconvert_exporter": "python",
   "pygments_lexer": "ipython3",
   "version": "3.11.9"
  }
 },
 "nbformat": 4,
 "nbformat_minor": 5
}
